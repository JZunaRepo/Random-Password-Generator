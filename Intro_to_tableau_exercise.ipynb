{
  "cells": [
    {
      "cell_type": "markdown",
      "metadata": {
        "id": "view-in-github",
        "colab_type": "text"
      },
      "source": [
        "<a href=\"https://colab.research.google.com/github/JZunaRepo/Random-Password-Generator/blob/main/Intro_to_tableau_exercise.ipynb\" target=\"_parent\"><img src=\"https://colab.research.google.com/assets/colab-badge.svg\" alt=\"Open In Colab\"/></a>"
      ]
    },
    {
      "cell_type": "markdown",
      "metadata": {
        "id": "tQG3khviZ84i"
      },
      "source": [
        "## EDA Exercise\n",
        "\n",
        "Choose from one of the datasets listed below:\n",
        "\n",
        "* [titanic dataset](https://www.kaggle.com/competitions/titanic/data?select=train.csv)\n",
        "* [us census & voting](https://www.kaggle.com/datasets/minhbtnguyen/us-census-for-election-predictions-20002020)\n",
        "* [us real-estate](https://www.kaggle.com/competitions/house-prices-advanced-regression-techniques/data?select=train.csv)\n",
        "\n",
        "(or any other dataset that you'd like to explore)\n",
        "\n",
        "Using this dataset, download it to your folder & read it into this jupyter notebook using pandas.\n",
        "\n",
        "Perform EDA on this dataset by:\n",
        "* Viewing your dataframe\n",
        "* Splitting dataframe into groups\n",
        "* Calculating statistics such as central-tendency\n",
        "* Performing t-tests such as kolmogorov-smirnov\n",
        "* And most importantly, visualizing your data\n",
        "\n",
        "While there are sections outlined for you, you do not have to perform your analysis in any discrete order.\n",
        "\n",
        "Generate at least 3 visualizations for your datasets including distribution via histograms, correlation via scatter-plots, and rank according to bar-charts.\n",
        "\n",
        "Lastly, generate a write-up of your observations as you go through the `EDA` process."
      ]
    },
    {
      "cell_type": "markdown",
      "metadata": {
        "id": "FxqECRccZ84q"
      },
      "source": [
        "## Goals Writeup\n",
        "\n",
        "What goals do you have for your `EDA`? What sorts of trends or patterns do you hope to find?\n",
        "\n",
        "\n",
        "Which column(s) do you plan to focus your analysis on?\n",
        "\n"
      ]
    },
    {
      "cell_type": "code",
      "source": [
        "from google.colab import drive\n",
        "drive.mount('/content/drive')"
      ],
      "metadata": {
        "colab": {
          "base_uri": "https://localhost:8080/"
        },
        "id": "pcsQmRAt1Z52",
        "outputId": "3be7d019-31ae-4db6-dd5b-75e0e7fa802f"
      },
      "execution_count": null,
      "outputs": [
        {
          "output_type": "stream",
          "name": "stdout",
          "text": [
            "Mounted at /content/drive\n"
          ]
        }
      ]
    },
    {
      "cell_type": "code",
      "execution_count": null,
      "metadata": {
        "id": "RW7JqpHZZ84r",
        "colab": {
          "base_uri": "https://localhost:8080/",
          "height": 232
        },
        "outputId": "d79d4cba-d1b2-48b0-cd45-3f605753a227"
      },
      "outputs": [
        {
          "output_type": "execute_result",
          "data": {
            "text/plain": [
              "   year  county_fips   inctot  mortamt1  avrg_age  ftotinc  foodstmp_1_freq  \\\n",
              "0  2000            1  24566.4     634.6      46.0  46912.7             93.6   \n",
              "1  2000            2  33842.9    1080.1      42.4  65021.9             95.3   \n",
              "2  2000            4  28331.7     814.7      45.3  52826.7             95.8   \n",
              "3  2000            5  22782.6     557.5      46.2  43941.3             92.5   \n",
              "4  2000            6  32245.0    1216.3      43.8  61455.3             95.7   \n",
              "\n",
              "   foodstmp_2_freq  sex_2_freq  sex_1_freq  ...  empstat_3.0_freq  \\\n",
              "0              6.4        54.0        46.0  ...              38.4   \n",
              "1              4.7        50.3        49.7  ...              25.2   \n",
              "2              4.2        52.1        47.9  ...              38.3   \n",
              "3              7.5        53.0        47.0  ...              37.8   \n",
              "4              4.3        52.0        48.0  ...              35.1   \n",
              "\n",
              "   empstat_2.0_freq  state_po  county_name  democrat  green  liberitarian  \\\n",
              "0               3.2       NaN          NaN       NaN    NaN           NaN   \n",
              "1               4.8       NaN          NaN       NaN    NaN           NaN   \n",
              "2               3.2       NaN          NaN       NaN    NaN           NaN   \n",
              "3               3.2       NaN          NaN       NaN    NaN           NaN   \n",
              "4               3.6       NaN          NaN       NaN    NaN           NaN   \n",
              "\n",
              "   other  republican  winner  \n",
              "0    NaN         NaN     NaN  \n",
              "1    NaN         NaN     NaN  \n",
              "2    NaN         NaN     NaN  \n",
              "3    NaN         NaN     NaN  \n",
              "4    NaN         NaN     NaN  \n",
              "\n",
              "[5 rows x 45 columns]"
            ],
            "text/html": [
              "\n",
              "  <div id=\"df-41bab144-5773-43b8-b510-24e339a28fac\">\n",
              "    <div class=\"colab-df-container\">\n",
              "      <div>\n",
              "<style scoped>\n",
              "    .dataframe tbody tr th:only-of-type {\n",
              "        vertical-align: middle;\n",
              "    }\n",
              "\n",
              "    .dataframe tbody tr th {\n",
              "        vertical-align: top;\n",
              "    }\n",
              "\n",
              "    .dataframe thead th {\n",
              "        text-align: right;\n",
              "    }\n",
              "</style>\n",
              "<table border=\"1\" class=\"dataframe\">\n",
              "  <thead>\n",
              "    <tr style=\"text-align: right;\">\n",
              "      <th></th>\n",
              "      <th>year</th>\n",
              "      <th>county_fips</th>\n",
              "      <th>inctot</th>\n",
              "      <th>mortamt1</th>\n",
              "      <th>avrg_age</th>\n",
              "      <th>ftotinc</th>\n",
              "      <th>foodstmp_1_freq</th>\n",
              "      <th>foodstmp_2_freq</th>\n",
              "      <th>sex_2_freq</th>\n",
              "      <th>sex_1_freq</th>\n",
              "      <th>...</th>\n",
              "      <th>empstat_3.0_freq</th>\n",
              "      <th>empstat_2.0_freq</th>\n",
              "      <th>state_po</th>\n",
              "      <th>county_name</th>\n",
              "      <th>democrat</th>\n",
              "      <th>green</th>\n",
              "      <th>liberitarian</th>\n",
              "      <th>other</th>\n",
              "      <th>republican</th>\n",
              "      <th>winner</th>\n",
              "    </tr>\n",
              "  </thead>\n",
              "  <tbody>\n",
              "    <tr>\n",
              "      <th>0</th>\n",
              "      <td>2000</td>\n",
              "      <td>1</td>\n",
              "      <td>24566.4</td>\n",
              "      <td>634.6</td>\n",
              "      <td>46.0</td>\n",
              "      <td>46912.7</td>\n",
              "      <td>93.6</td>\n",
              "      <td>6.4</td>\n",
              "      <td>54.0</td>\n",
              "      <td>46.0</td>\n",
              "      <td>...</td>\n",
              "      <td>38.4</td>\n",
              "      <td>3.2</td>\n",
              "      <td>NaN</td>\n",
              "      <td>NaN</td>\n",
              "      <td>NaN</td>\n",
              "      <td>NaN</td>\n",
              "      <td>NaN</td>\n",
              "      <td>NaN</td>\n",
              "      <td>NaN</td>\n",
              "      <td>NaN</td>\n",
              "    </tr>\n",
              "    <tr>\n",
              "      <th>1</th>\n",
              "      <td>2000</td>\n",
              "      <td>2</td>\n",
              "      <td>33842.9</td>\n",
              "      <td>1080.1</td>\n",
              "      <td>42.4</td>\n",
              "      <td>65021.9</td>\n",
              "      <td>95.3</td>\n",
              "      <td>4.7</td>\n",
              "      <td>50.3</td>\n",
              "      <td>49.7</td>\n",
              "      <td>...</td>\n",
              "      <td>25.2</td>\n",
              "      <td>4.8</td>\n",
              "      <td>NaN</td>\n",
              "      <td>NaN</td>\n",
              "      <td>NaN</td>\n",
              "      <td>NaN</td>\n",
              "      <td>NaN</td>\n",
              "      <td>NaN</td>\n",
              "      <td>NaN</td>\n",
              "      <td>NaN</td>\n",
              "    </tr>\n",
              "    <tr>\n",
              "      <th>2</th>\n",
              "      <td>2000</td>\n",
              "      <td>4</td>\n",
              "      <td>28331.7</td>\n",
              "      <td>814.7</td>\n",
              "      <td>45.3</td>\n",
              "      <td>52826.7</td>\n",
              "      <td>95.8</td>\n",
              "      <td>4.2</td>\n",
              "      <td>52.1</td>\n",
              "      <td>47.9</td>\n",
              "      <td>...</td>\n",
              "      <td>38.3</td>\n",
              "      <td>3.2</td>\n",
              "      <td>NaN</td>\n",
              "      <td>NaN</td>\n",
              "      <td>NaN</td>\n",
              "      <td>NaN</td>\n",
              "      <td>NaN</td>\n",
              "      <td>NaN</td>\n",
              "      <td>NaN</td>\n",
              "      <td>NaN</td>\n",
              "    </tr>\n",
              "    <tr>\n",
              "      <th>3</th>\n",
              "      <td>2000</td>\n",
              "      <td>5</td>\n",
              "      <td>22782.6</td>\n",
              "      <td>557.5</td>\n",
              "      <td>46.2</td>\n",
              "      <td>43941.3</td>\n",
              "      <td>92.5</td>\n",
              "      <td>7.5</td>\n",
              "      <td>53.0</td>\n",
              "      <td>47.0</td>\n",
              "      <td>...</td>\n",
              "      <td>37.8</td>\n",
              "      <td>3.2</td>\n",
              "      <td>NaN</td>\n",
              "      <td>NaN</td>\n",
              "      <td>NaN</td>\n",
              "      <td>NaN</td>\n",
              "      <td>NaN</td>\n",
              "      <td>NaN</td>\n",
              "      <td>NaN</td>\n",
              "      <td>NaN</td>\n",
              "    </tr>\n",
              "    <tr>\n",
              "      <th>4</th>\n",
              "      <td>2000</td>\n",
              "      <td>6</td>\n",
              "      <td>32245.0</td>\n",
              "      <td>1216.3</td>\n",
              "      <td>43.8</td>\n",
              "      <td>61455.3</td>\n",
              "      <td>95.7</td>\n",
              "      <td>4.3</td>\n",
              "      <td>52.0</td>\n",
              "      <td>48.0</td>\n",
              "      <td>...</td>\n",
              "      <td>35.1</td>\n",
              "      <td>3.6</td>\n",
              "      <td>NaN</td>\n",
              "      <td>NaN</td>\n",
              "      <td>NaN</td>\n",
              "      <td>NaN</td>\n",
              "      <td>NaN</td>\n",
              "      <td>NaN</td>\n",
              "      <td>NaN</td>\n",
              "      <td>NaN</td>\n",
              "    </tr>\n",
              "  </tbody>\n",
              "</table>\n",
              "<p>5 rows × 45 columns</p>\n",
              "</div>\n",
              "      <button class=\"colab-df-convert\" onclick=\"convertToInteractive('df-41bab144-5773-43b8-b510-24e339a28fac')\"\n",
              "              title=\"Convert this dataframe to an interactive table.\"\n",
              "              style=\"display:none;\">\n",
              "        \n",
              "  <svg xmlns=\"http://www.w3.org/2000/svg\" height=\"24px\"viewBox=\"0 0 24 24\"\n",
              "       width=\"24px\">\n",
              "    <path d=\"M0 0h24v24H0V0z\" fill=\"none\"/>\n",
              "    <path d=\"M18.56 5.44l.94 2.06.94-2.06 2.06-.94-2.06-.94-.94-2.06-.94 2.06-2.06.94zm-11 1L8.5 8.5l.94-2.06 2.06-.94-2.06-.94L8.5 2.5l-.94 2.06-2.06.94zm10 10l.94 2.06.94-2.06 2.06-.94-2.06-.94-.94-2.06-.94 2.06-2.06.94z\"/><path d=\"M17.41 7.96l-1.37-1.37c-.4-.4-.92-.59-1.43-.59-.52 0-1.04.2-1.43.59L10.3 9.45l-7.72 7.72c-.78.78-.78 2.05 0 2.83L4 21.41c.39.39.9.59 1.41.59.51 0 1.02-.2 1.41-.59l7.78-7.78 2.81-2.81c.8-.78.8-2.07 0-2.86zM5.41 20L4 18.59l7.72-7.72 1.47 1.35L5.41 20z\"/>\n",
              "  </svg>\n",
              "      </button>\n",
              "      \n",
              "  <style>\n",
              "    .colab-df-container {\n",
              "      display:flex;\n",
              "      flex-wrap:wrap;\n",
              "      gap: 12px;\n",
              "    }\n",
              "\n",
              "    .colab-df-convert {\n",
              "      background-color: #E8F0FE;\n",
              "      border: none;\n",
              "      border-radius: 50%;\n",
              "      cursor: pointer;\n",
              "      display: none;\n",
              "      fill: #1967D2;\n",
              "      height: 32px;\n",
              "      padding: 0 0 0 0;\n",
              "      width: 32px;\n",
              "    }\n",
              "\n",
              "    .colab-df-convert:hover {\n",
              "      background-color: #E2EBFA;\n",
              "      box-shadow: 0px 1px 2px rgba(60, 64, 67, 0.3), 0px 1px 3px 1px rgba(60, 64, 67, 0.15);\n",
              "      fill: #174EA6;\n",
              "    }\n",
              "\n",
              "    [theme=dark] .colab-df-convert {\n",
              "      background-color: #3B4455;\n",
              "      fill: #D2E3FC;\n",
              "    }\n",
              "\n",
              "    [theme=dark] .colab-df-convert:hover {\n",
              "      background-color: #434B5C;\n",
              "      box-shadow: 0px 1px 3px 1px rgba(0, 0, 0, 0.15);\n",
              "      filter: drop-shadow(0px 1px 2px rgba(0, 0, 0, 0.3));\n",
              "      fill: #FFFFFF;\n",
              "    }\n",
              "  </style>\n",
              "\n",
              "      <script>\n",
              "        const buttonEl =\n",
              "          document.querySelector('#df-41bab144-5773-43b8-b510-24e339a28fac button.colab-df-convert');\n",
              "        buttonEl.style.display =\n",
              "          google.colab.kernel.accessAllowed ? 'block' : 'none';\n",
              "\n",
              "        async function convertToInteractive(key) {\n",
              "          const element = document.querySelector('#df-41bab144-5773-43b8-b510-24e339a28fac');\n",
              "          const dataTable =\n",
              "            await google.colab.kernel.invokeFunction('convertToInteractive',\n",
              "                                                     [key], {});\n",
              "          if (!dataTable) return;\n",
              "\n",
              "          const docLinkHtml = 'Like what you see? Visit the ' +\n",
              "            '<a target=\"_blank\" href=https://colab.research.google.com/notebooks/data_table.ipynb>data table notebook</a>'\n",
              "            + ' to learn more about interactive tables.';\n",
              "          element.innerHTML = '';\n",
              "          dataTable['output_type'] = 'display_data';\n",
              "          await google.colab.output.renderOutput(dataTable, element);\n",
              "          const docLink = document.createElement('div');\n",
              "          docLink.innerHTML = docLinkHtml;\n",
              "          element.appendChild(docLink);\n",
              "        }\n",
              "      </script>\n",
              "    </div>\n",
              "  </div>\n",
              "  "
            ]
          },
          "metadata": {},
          "execution_count": 32
        },
        {
          "output_type": "stream",
          "name": "stdout",
          "text": [
            "Warning: Total number of columns (45) exceeds max_columns (20) limiting to first (20) columns.\n"
          ]
        }
      ],
      "source": [
        "import pandas as pd\n",
        "import seaborn as sns\n",
        "import scipy.stats as stats\n",
        "import matplotlib.pyplot as plt\n",
        "\n",
        "\n",
        "# read in csv file\n",
        "df = pd.read_csv(\"/content/drive/MyDrive/Colab Notebooks/Data/county_census_and_election_result.csv\")\n",
        "df.head()"
      ]
    },
    {
      "cell_type": "code",
      "execution_count": null,
      "metadata": {
        "id": "j6wJhv6eZ84t",
        "colab": {
          "base_uri": "https://localhost:8080/"
        },
        "outputId": "cda0f7b6-48ca-4af4-c572-704b92f91376"
      },
      "outputs": [
        {
          "output_type": "execute_result",
          "data": {
            "text/plain": [
              "Index(['year', 'county_fips', 'inctot', 'mortamt1', 'avrg_age', 'ftotinc',\n",
              "       'foodstmp_1_freq', 'foodstmp_2_freq', 'sex_2_freq', 'sex_1_freq',\n",
              "       'marst_5_freq', 'marst_6_freq', 'marst_1_freq', 'marst_4_freq',\n",
              "       'marst_3_freq', 'marst_2_freq', 'race_1_freq', 'race_2_freq',\n",
              "       'race_7_freq', 'race_8_freq', 'race_5_freq', 'race_6_freq',\n",
              "       'race_3_freq', 'race_4_freq', 'race_9_freq', 'ctz_stat_1_freq',\n",
              "       'ctz_stat_3_freq', 'ctz_stat_2_freq', 'lang_1_freq', 'lang_2_freq',\n",
              "       'educ_attain_2.0_freq', 'educ_attain_1.0_freq', 'educ_attain_3.0_freq',\n",
              "       'educ_attain_4.0_freq', 'empstat_1.0_freq', 'empstat_3.0_freq',\n",
              "       'empstat_2.0_freq', 'state_po', 'county_name', 'democrat', 'green',\n",
              "       'liberitarian', 'other', 'republican', 'winner'],\n",
              "      dtype='object')"
            ]
          },
          "metadata": {},
          "execution_count": 4
        }
      ],
      "source": [
        "## EXPLORE METADATA\n",
        "# size of data? column names? first 5 rows? metadata of df? any null values? if so, drop\n",
        "df.columns"
      ]
    },
    {
      "cell_type": "code",
      "source": [
        "#Dropping all N/A values to analyze only the available data\n",
        "df.dropna(inplace = True)\n",
        "df.info()"
      ],
      "metadata": {
        "colab": {
          "base_uri": "https://localhost:8080/"
        },
        "id": "QflFaI7G2z6l",
        "outputId": "1e549ef4-3527-46cf-df07-446de5e0ce0f"
      },
      "execution_count": null,
      "outputs": [
        {
          "output_type": "stream",
          "name": "stdout",
          "text": [
            "<class 'pandas.core.frame.DataFrame'>\n",
            "Int64Index: 1670 entries, 1529 to 7524\n",
            "Data columns (total 45 columns):\n",
            " #   Column                Non-Null Count  Dtype  \n",
            "---  ------                --------------  -----  \n",
            " 0   year                  1670 non-null   int64  \n",
            " 1   county_fips           1670 non-null   int64  \n",
            " 2   inctot                1670 non-null   float64\n",
            " 3   mortamt1              1670 non-null   float64\n",
            " 4   avrg_age              1670 non-null   float64\n",
            " 5   ftotinc               1670 non-null   float64\n",
            " 6   foodstmp_1_freq       1670 non-null   float64\n",
            " 7   foodstmp_2_freq       1670 non-null   float64\n",
            " 8   sex_2_freq            1670 non-null   float64\n",
            " 9   sex_1_freq            1670 non-null   float64\n",
            " 10  marst_5_freq          1670 non-null   float64\n",
            " 11  marst_6_freq          1670 non-null   float64\n",
            " 12  marst_1_freq          1670 non-null   float64\n",
            " 13  marst_4_freq          1670 non-null   float64\n",
            " 14  marst_3_freq          1670 non-null   float64\n",
            " 15  marst_2_freq          1670 non-null   float64\n",
            " 16  race_1_freq           1670 non-null   float64\n",
            " 17  race_2_freq           1670 non-null   float64\n",
            " 18  race_7_freq           1670 non-null   float64\n",
            " 19  race_8_freq           1670 non-null   float64\n",
            " 20  race_5_freq           1670 non-null   float64\n",
            " 21  race_6_freq           1670 non-null   float64\n",
            " 22  race_3_freq           1670 non-null   float64\n",
            " 23  race_4_freq           1670 non-null   float64\n",
            " 24  race_9_freq           1670 non-null   float64\n",
            " 25  ctz_stat_1_freq       1670 non-null   float64\n",
            " 26  ctz_stat_3_freq       1670 non-null   float64\n",
            " 27  ctz_stat_2_freq       1670 non-null   float64\n",
            " 28  lang_1_freq           1670 non-null   float64\n",
            " 29  lang_2_freq           1670 non-null   float64\n",
            " 30  educ_attain_2.0_freq  1670 non-null   float64\n",
            " 31  educ_attain_1.0_freq  1670 non-null   float64\n",
            " 32  educ_attain_3.0_freq  1670 non-null   float64\n",
            " 33  educ_attain_4.0_freq  1670 non-null   float64\n",
            " 34  empstat_1.0_freq      1670 non-null   float64\n",
            " 35  empstat_3.0_freq      1670 non-null   float64\n",
            " 36  empstat_2.0_freq      1670 non-null   float64\n",
            " 37  state_po              1670 non-null   object \n",
            " 38  county_name           1670 non-null   object \n",
            " 39  democrat              1670 non-null   float64\n",
            " 40  green                 1670 non-null   float64\n",
            " 41  liberitarian          1670 non-null   float64\n",
            " 42  other                 1670 non-null   float64\n",
            " 43  republican            1670 non-null   float64\n",
            " 44  winner                1670 non-null   float64\n",
            "dtypes: float64(41), int64(2), object(2)\n",
            "memory usage: 600.2+ KB\n"
          ]
        }
      ]
    },
    {
      "cell_type": "code",
      "source": [
        "#sex_1(males), sex_2(females), educ1(highschool), educ2(Some or bachelors ), educ3(Masters), educ4(Doctoral), inctot(avg income)\n",
        "data = df[[\"year\",\"sex_1_freq\",\"sex_2_freq\",\"sex_2_freq\",\"educ_attain_1.0_freq\",\"educ_attain_2.0_freq\",\"educ_attain_3.0_freq\",\"educ_attain_4.0_freq\",\"democrat\",\"republican\"]]\n",
        "data"
      ],
      "metadata": {
        "colab": {
          "base_uri": "https://localhost:8080/",
          "height": 1193
        },
        "id": "shiBK8Dd3YTH",
        "outputId": "05a6a1a1-711c-442f-b270-bd572e84b7e1"
      },
      "execution_count": null,
      "outputs": [
        {
          "output_type": "execute_result",
          "data": {
            "text/plain": [
              "      year  sex_1_freq  sex_2_freq  sex_2_freq  educ_attain_1.0_freq  \\\n",
              "0     2000        46.0        54.0        54.0                  51.9   \n",
              "1     2000        49.7        50.3        50.3                  36.5   \n",
              "2     2000        47.9        52.1        52.1                  43.3   \n",
              "3     2000        47.0        53.0        53.0                  55.7   \n",
              "4     2000        48.0        52.0        52.0                  40.1   \n",
              "...    ...         ...         ...         ...                   ...   \n",
              "7521  2020        50.5        49.5        49.5                  40.7   \n",
              "7522  2020        50.6        49.4        49.4                  33.2   \n",
              "7523  2020        47.2        52.8        52.8                  26.5   \n",
              "7524  2020        52.1        47.9        47.9                  41.3   \n",
              "7525  2020        50.3        49.7        49.7                  36.3   \n",
              "\n",
              "      educ_attain_2.0_freq  educ_attain_3.0_freq  educ_attain_4.0_freq  \\\n",
              "0                     41.0                   6.4                   0.7   \n",
              "1                     53.1                   8.9                   1.5   \n",
              "2                     48.4                   7.5                   0.8   \n",
              "3                     38.3                   5.2                   0.8   \n",
              "4                     50.2                   8.5                   1.2   \n",
              "...                    ...                   ...                   ...   \n",
              "7521                  50.9                   7.8                   0.6   \n",
              "7522                  56.1                   9.1                   1.7   \n",
              "7523                  59.8                  12.9                   0.8   \n",
              "7524                  51.1                   7.2                   0.4   \n",
              "7525                  54.1                   8.5                   1.0   \n",
              "\n",
              "      democrat  republican  \n",
              "0          NaN         NaN  \n",
              "1          NaN         NaN  \n",
              "2          NaN         NaN  \n",
              "3          NaN         NaN  \n",
              "4          NaN         NaN  \n",
              "...        ...         ...  \n",
              "7521   27101.0     37609.0  \n",
              "7522   22789.0     33851.0  \n",
              "7523  103906.0    159649.0  \n",
              "7524   44060.0     47796.0  \n",
              "7525       NaN         NaN  \n",
              "\n",
              "[7526 rows x 10 columns]"
            ],
            "text/html": [
              "\n",
              "  <div id=\"df-9a899ba1-f41c-4c57-83f0-bff155882af7\">\n",
              "    <div class=\"colab-df-container\">\n",
              "      <div>\n",
              "<style scoped>\n",
              "    .dataframe tbody tr th:only-of-type {\n",
              "        vertical-align: middle;\n",
              "    }\n",
              "\n",
              "    .dataframe tbody tr th {\n",
              "        vertical-align: top;\n",
              "    }\n",
              "\n",
              "    .dataframe thead th {\n",
              "        text-align: right;\n",
              "    }\n",
              "</style>\n",
              "<table border=\"1\" class=\"dataframe\">\n",
              "  <thead>\n",
              "    <tr style=\"text-align: right;\">\n",
              "      <th></th>\n",
              "      <th>year</th>\n",
              "      <th>sex_1_freq</th>\n",
              "      <th>sex_2_freq</th>\n",
              "      <th>sex_2_freq</th>\n",
              "      <th>educ_attain_1.0_freq</th>\n",
              "      <th>educ_attain_2.0_freq</th>\n",
              "      <th>educ_attain_3.0_freq</th>\n",
              "      <th>educ_attain_4.0_freq</th>\n",
              "      <th>democrat</th>\n",
              "      <th>republican</th>\n",
              "    </tr>\n",
              "  </thead>\n",
              "  <tbody>\n",
              "    <tr>\n",
              "      <th>0</th>\n",
              "      <td>2000</td>\n",
              "      <td>46.0</td>\n",
              "      <td>54.0</td>\n",
              "      <td>54.0</td>\n",
              "      <td>51.9</td>\n",
              "      <td>41.0</td>\n",
              "      <td>6.4</td>\n",
              "      <td>0.7</td>\n",
              "      <td>NaN</td>\n",
              "      <td>NaN</td>\n",
              "    </tr>\n",
              "    <tr>\n",
              "      <th>1</th>\n",
              "      <td>2000</td>\n",
              "      <td>49.7</td>\n",
              "      <td>50.3</td>\n",
              "      <td>50.3</td>\n",
              "      <td>36.5</td>\n",
              "      <td>53.1</td>\n",
              "      <td>8.9</td>\n",
              "      <td>1.5</td>\n",
              "      <td>NaN</td>\n",
              "      <td>NaN</td>\n",
              "    </tr>\n",
              "    <tr>\n",
              "      <th>2</th>\n",
              "      <td>2000</td>\n",
              "      <td>47.9</td>\n",
              "      <td>52.1</td>\n",
              "      <td>52.1</td>\n",
              "      <td>43.3</td>\n",
              "      <td>48.4</td>\n",
              "      <td>7.5</td>\n",
              "      <td>0.8</td>\n",
              "      <td>NaN</td>\n",
              "      <td>NaN</td>\n",
              "    </tr>\n",
              "    <tr>\n",
              "      <th>3</th>\n",
              "      <td>2000</td>\n",
              "      <td>47.0</td>\n",
              "      <td>53.0</td>\n",
              "      <td>53.0</td>\n",
              "      <td>55.7</td>\n",
              "      <td>38.3</td>\n",
              "      <td>5.2</td>\n",
              "      <td>0.8</td>\n",
              "      <td>NaN</td>\n",
              "      <td>NaN</td>\n",
              "    </tr>\n",
              "    <tr>\n",
              "      <th>4</th>\n",
              "      <td>2000</td>\n",
              "      <td>48.0</td>\n",
              "      <td>52.0</td>\n",
              "      <td>52.0</td>\n",
              "      <td>40.1</td>\n",
              "      <td>50.2</td>\n",
              "      <td>8.5</td>\n",
              "      <td>1.2</td>\n",
              "      <td>NaN</td>\n",
              "      <td>NaN</td>\n",
              "    </tr>\n",
              "    <tr>\n",
              "      <th>...</th>\n",
              "      <td>...</td>\n",
              "      <td>...</td>\n",
              "      <td>...</td>\n",
              "      <td>...</td>\n",
              "      <td>...</td>\n",
              "      <td>...</td>\n",
              "      <td>...</td>\n",
              "      <td>...</td>\n",
              "      <td>...</td>\n",
              "      <td>...</td>\n",
              "    </tr>\n",
              "    <tr>\n",
              "      <th>7521</th>\n",
              "      <td>2020</td>\n",
              "      <td>50.5</td>\n",
              "      <td>49.5</td>\n",
              "      <td>49.5</td>\n",
              "      <td>40.7</td>\n",
              "      <td>50.9</td>\n",
              "      <td>7.8</td>\n",
              "      <td>0.6</td>\n",
              "      <td>27101.0</td>\n",
              "      <td>37609.0</td>\n",
              "    </tr>\n",
              "    <tr>\n",
              "      <th>7522</th>\n",
              "      <td>2020</td>\n",
              "      <td>50.6</td>\n",
              "      <td>49.4</td>\n",
              "      <td>49.4</td>\n",
              "      <td>33.2</td>\n",
              "      <td>56.1</td>\n",
              "      <td>9.1</td>\n",
              "      <td>1.7</td>\n",
              "      <td>22789.0</td>\n",
              "      <td>33851.0</td>\n",
              "    </tr>\n",
              "    <tr>\n",
              "      <th>7523</th>\n",
              "      <td>2020</td>\n",
              "      <td>47.2</td>\n",
              "      <td>52.8</td>\n",
              "      <td>52.8</td>\n",
              "      <td>26.5</td>\n",
              "      <td>59.8</td>\n",
              "      <td>12.9</td>\n",
              "      <td>0.8</td>\n",
              "      <td>103906.0</td>\n",
              "      <td>159649.0</td>\n",
              "    </tr>\n",
              "    <tr>\n",
              "      <th>7524</th>\n",
              "      <td>2020</td>\n",
              "      <td>52.1</td>\n",
              "      <td>47.9</td>\n",
              "      <td>47.9</td>\n",
              "      <td>41.3</td>\n",
              "      <td>51.1</td>\n",
              "      <td>7.2</td>\n",
              "      <td>0.4</td>\n",
              "      <td>44060.0</td>\n",
              "      <td>47796.0</td>\n",
              "    </tr>\n",
              "    <tr>\n",
              "      <th>7525</th>\n",
              "      <td>2020</td>\n",
              "      <td>50.3</td>\n",
              "      <td>49.7</td>\n",
              "      <td>49.7</td>\n",
              "      <td>36.3</td>\n",
              "      <td>54.1</td>\n",
              "      <td>8.5</td>\n",
              "      <td>1.0</td>\n",
              "      <td>NaN</td>\n",
              "      <td>NaN</td>\n",
              "    </tr>\n",
              "  </tbody>\n",
              "</table>\n",
              "<p>7526 rows × 10 columns</p>\n",
              "</div>\n",
              "      <button class=\"colab-df-convert\" onclick=\"convertToInteractive('df-9a899ba1-f41c-4c57-83f0-bff155882af7')\"\n",
              "              title=\"Convert this dataframe to an interactive table.\"\n",
              "              style=\"display:none;\">\n",
              "        \n",
              "  <svg xmlns=\"http://www.w3.org/2000/svg\" height=\"24px\"viewBox=\"0 0 24 24\"\n",
              "       width=\"24px\">\n",
              "    <path d=\"M0 0h24v24H0V0z\" fill=\"none\"/>\n",
              "    <path d=\"M18.56 5.44l.94 2.06.94-2.06 2.06-.94-2.06-.94-.94-2.06-.94 2.06-2.06.94zm-11 1L8.5 8.5l.94-2.06 2.06-.94-2.06-.94L8.5 2.5l-.94 2.06-2.06.94zm10 10l.94 2.06.94-2.06 2.06-.94-2.06-.94-.94-2.06-.94 2.06-2.06.94z\"/><path d=\"M17.41 7.96l-1.37-1.37c-.4-.4-.92-.59-1.43-.59-.52 0-1.04.2-1.43.59L10.3 9.45l-7.72 7.72c-.78.78-.78 2.05 0 2.83L4 21.41c.39.39.9.59 1.41.59.51 0 1.02-.2 1.41-.59l7.78-7.78 2.81-2.81c.8-.78.8-2.07 0-2.86zM5.41 20L4 18.59l7.72-7.72 1.47 1.35L5.41 20z\"/>\n",
              "  </svg>\n",
              "      </button>\n",
              "      \n",
              "  <style>\n",
              "    .colab-df-container {\n",
              "      display:flex;\n",
              "      flex-wrap:wrap;\n",
              "      gap: 12px;\n",
              "    }\n",
              "\n",
              "    .colab-df-convert {\n",
              "      background-color: #E8F0FE;\n",
              "      border: none;\n",
              "      border-radius: 50%;\n",
              "      cursor: pointer;\n",
              "      display: none;\n",
              "      fill: #1967D2;\n",
              "      height: 32px;\n",
              "      padding: 0 0 0 0;\n",
              "      width: 32px;\n",
              "    }\n",
              "\n",
              "    .colab-df-convert:hover {\n",
              "      background-color: #E2EBFA;\n",
              "      box-shadow: 0px 1px 2px rgba(60, 64, 67, 0.3), 0px 1px 3px 1px rgba(60, 64, 67, 0.15);\n",
              "      fill: #174EA6;\n",
              "    }\n",
              "\n",
              "    [theme=dark] .colab-df-convert {\n",
              "      background-color: #3B4455;\n",
              "      fill: #D2E3FC;\n",
              "    }\n",
              "\n",
              "    [theme=dark] .colab-df-convert:hover {\n",
              "      background-color: #434B5C;\n",
              "      box-shadow: 0px 1px 3px 1px rgba(0, 0, 0, 0.15);\n",
              "      filter: drop-shadow(0px 1px 2px rgba(0, 0, 0, 0.3));\n",
              "      fill: #FFFFFF;\n",
              "    }\n",
              "  </style>\n",
              "\n",
              "      <script>\n",
              "        const buttonEl =\n",
              "          document.querySelector('#df-9a899ba1-f41c-4c57-83f0-bff155882af7 button.colab-df-convert');\n",
              "        buttonEl.style.display =\n",
              "          google.colab.kernel.accessAllowed ? 'block' : 'none';\n",
              "\n",
              "        async function convertToInteractive(key) {\n",
              "          const element = document.querySelector('#df-9a899ba1-f41c-4c57-83f0-bff155882af7');\n",
              "          const dataTable =\n",
              "            await google.colab.kernel.invokeFunction('convertToInteractive',\n",
              "                                                     [key], {});\n",
              "          if (!dataTable) return;\n",
              "\n",
              "          const docLinkHtml = 'Like what you see? Visit the ' +\n",
              "            '<a target=\"_blank\" href=https://colab.research.google.com/notebooks/data_table.ipynb>data table notebook</a>'\n",
              "            + ' to learn more about interactive tables.';\n",
              "          element.innerHTML = '';\n",
              "          dataTable['output_type'] = 'display_data';\n",
              "          await google.colab.output.renderOutput(dataTable, element);\n",
              "          const docLink = document.createElement('div');\n",
              "          docLink.innerHTML = docLinkHtml;\n",
              "          element.appendChild(docLink);\n",
              "        }\n",
              "      </script>\n",
              "    </div>\n",
              "  </div>\n",
              "  "
            ]
          },
          "metadata": {},
          "execution_count": 56
        }
      ]
    },
    {
      "cell_type": "code",
      "execution_count": null,
      "metadata": {
        "id": "9YUrh_MwZ84u"
      },
      "outputs": [],
      "source": [
        "## GROUPS\n",
        "# what groups, if any, can you generate? This optional, as sometimes our entire dataframe is one large group\n"
      ]
    },
    {
      "cell_type": "code",
      "execution_count": null,
      "metadata": {
        "id": "ai_MpjEPZ84v",
        "colab": {
          "base_uri": "https://localhost:8080/",
          "height": 282
        },
        "outputId": "46163efa-2b0a-4d30-a0a0-1ddc107c036f"
      },
      "outputs": [
        {
          "output_type": "execute_result",
          "data": {
            "text/plain": [
              "<matplotlib.axes._subplots.AxesSubplot at 0x7f1c6583e9a0>"
            ]
          },
          "metadata": {},
          "execution_count": 15
        },
        {
          "output_type": "display_data",
          "data": {
            "text/plain": [
              "<Figure size 432x288 with 1 Axes>"
            ],
            "image/png": "[encoded data removed]"
          },
          "metadata": {
            "needs_background": "light"
          }
        }
      ],
      "source": [
        "## VISUALS VIA SEABORN\n",
        "# create visuals using the `sns` package to display your trends amongst groups or over the entire dataframe.\n",
        "# This should include: histograms, scatter-plots, and bar-graphs.\n",
        "data[\"educ_attain_2.0_freq\"].plot.hist()"
      ]
    },
    {
      "cell_type": "code",
      "source": [
        "data[\"educ_attain_2.0_freq\"].plot.hist(bins=30)"
      ],
      "metadata": {
        "colab": {
          "base_uri": "https://localhost:8080/",
          "height": 282
        },
        "id": "FhkxjSVfyMMz",
        "outputId": "80ccc112-987f-498f-dfc3-525eae8a2037"
      },
      "execution_count": null,
      "outputs": [
        {
          "output_type": "execute_result",
          "data": {
            "text/plain": [
              "<matplotlib.axes._subplots.AxesSubplot at 0x7f1c657d4250>"
            ]
          },
          "metadata": {},
          "execution_count": 16
        },
        {
          "output_type": "display_data",
          "data": {
            "text/plain": [
              "<Figure size 432x288 with 1 Axes>"
            ],
            "image/png": "[encoded data removed]"
          },
          "metadata": {
            "needs_background": "light"
          }
        }
      ]
    },
    {
      "cell_type": "code",
      "source": [
        "data[\"educ_attain_2.0_freq\"].plot.hist(bins=100)"
      ],
      "metadata": {
        "colab": {
          "base_uri": "https://localhost:8080/",
          "height": 282
        },
        "id": "mc_wi5uryQmD",
        "outputId": "29ddf6c5-41b4-4873-c9d5-2f48cf3f752e"
      },
      "execution_count": null,
      "outputs": [
        {
          "output_type": "execute_result",
          "data": {
            "text/plain": [
              "<matplotlib.axes._subplots.AxesSubplot at 0x7f1c65700a60>"
            ]
          },
          "metadata": {},
          "execution_count": 17
        },
        {
          "output_type": "display_data",
          "data": {
            "text/plain": [
              "<Figure size 432x288 with 1 Axes>"
            ],
            "image/png": "[encoded data removed]"
          },
          "metadata": {
            "needs_background": "light"
          }
        }
      ]
    },
    {
      "cell_type": "code",
      "source": [
        "data[[\"republican\",\"democrat\"]].plot.hist(bins=100)"
      ],
      "metadata": {
        "colab": {
          "base_uri": "https://localhost:8080/",
          "height": 295
        },
        "id": "uMb1q4qvykU5",
        "outputId": "463a58aa-9478-46bc-9a92-8ffb44086606"
      },
      "execution_count": null,
      "outputs": [
        {
          "output_type": "execute_result",
          "data": {
            "text/plain": [
              "<matplotlib.axes._subplots.AxesSubplot at 0x7f1c654dc910>"
            ]
          },
          "metadata": {},
          "execution_count": 35
        },
        {
          "output_type": "display_data",
          "data": {
            "text/plain": [
              "<Figure size 432x288 with 1 Axes>"
            ],
            "image/png": "[encoded data removed]"
          },
          "metadata": {
            "needs_background": "light"
          }
        }
      ]
    },
    {
      "cell_type": "code",
      "execution_count": null,
      "metadata": {
        "id": "9TeUYWn4Z84w",
        "colab": {
          "base_uri": "https://localhost:8080/"
        },
        "outputId": "cfb4cc97-f56d-4ec8-dc82-e52ff9d5cc99"
      },
      "outputs": [
        {
          "output_type": "execute_result",
          "data": {
            "text/plain": [
              "KstestResult(statistic=1.0, pvalue=0.0)"
            ]
          },
          "metadata": {},
          "execution_count": 28
        }
      ],
      "source": [
        "## K-S TEST FOR NORMALITY\n",
        "# what does the kolmogorov-smirnov test tell us about its distribution?\n",
        "stats.kstest(data[\"democrat\"], \"norm\")"
      ]
    },
    {
      "cell_type": "code",
      "source": [
        "stats.kstest(data[\"republican\"], \"norm\")"
      ],
      "metadata": {
        "colab": {
          "base_uri": "https://localhost:8080/"
        },
        "id": "LbArr0rtzvnB",
        "outputId": "25ccf304-dfaf-4089-d201-f0177411f756"
      },
      "execution_count": null,
      "outputs": [
        {
          "output_type": "execute_result",
          "data": {
            "text/plain": [
              "KstestResult(statistic=1.0, pvalue=0.0)"
            ]
          },
          "metadata": {},
          "execution_count": 29
        }
      ]
    },
    {
      "cell_type": "code",
      "source": [
        "stats.kstest(data[\"educ_attain_2.0_freq\"], \"norm\")"
      ],
      "metadata": {
        "colab": {
          "base_uri": "https://localhost:8080/"
        },
        "id": "THpsTFCizylU",
        "outputId": "a3c079ec-593f-443a-f90b-ceacf1ce6b78"
      },
      "execution_count": null,
      "outputs": [
        {
          "output_type": "execute_result",
          "data": {
            "text/plain": [
              "KstestResult(statistic=1.0, pvalue=0.0)"
            ]
          },
          "metadata": {},
          "execution_count": 36
        }
      ]
    },
    {
      "cell_type": "code",
      "execution_count": null,
      "metadata": {
        "id": "NG6XPZ2eZ84x",
        "colab": {
          "base_uri": "https://localhost:8080/",
          "height": 364
        },
        "outputId": "458b76f9-24b1-416e-8afb-b17e89f83cab"
      },
      "outputs": [
        {
          "output_type": "execute_result",
          "data": {
            "text/plain": [
              "((array([-3.34261013, -3.08808185, -2.94669745, ...,  2.94669745,\n",
              "          3.08808185,  3.34261013]),\n",
              "  array([   2187.,    2383.,    2536., ...,  956425.,  995665., 1145530.])),\n",
              " (74449.47524165174, 85685.74491017965, 0.7695972077897845))"
            ]
          },
          "metadata": {},
          "execution_count": 38
        },
        {
          "output_type": "display_data",
          "data": {
            "text/plain": [
              "<Figure size 432x288 with 1 Axes>"
            ],
            "image/png": "[encoded data removed]"
          },
          "metadata": {
            "needs_background": "light"
          }
        }
      ],
      "source": [
        "## QQ-PLOT\n",
        "# view this visually\n",
        "stats.probplot(data[\"republican\"], dist=\"norm\",plot=plt)"
      ]
    },
    {
      "cell_type": "code",
      "source": [
        "binned_language = pd.cut(data[\"educ_attain_2.0_freq\"], bins=2)\n",
        "data[\"bachelors_bin\"] = binned_language\n",
        "data[\"bachelors_bin\"].unique()"
      ],
      "metadata": {
        "colab": {
          "base_uri": "https://localhost:8080/"
        },
        "id": "vhVMFKnKBQwp",
        "outputId": "db121ebf-4917-440a-a64b-b0fa8924831b"
      },
      "execution_count": null,
      "outputs": [
        {
          "output_type": "execute_result",
          "data": {
            "text/plain": [
              "[(25.556, 47.45], (47.45, 69.3]]\n",
              "Categories (2, interval[float64, right]): [(25.556, 47.45] < (47.45, 69.3]]"
            ]
          },
          "metadata": {},
          "execution_count": 64
        }
      ]
    },
    {
      "cell_type": "code",
      "source": [
        "sns.boxplot(data=data, x=\"bachelors_bin\", y=\"republican\",showfliers=False)"
      ],
      "metadata": {
        "colab": {
          "base_uri": "https://localhost:8080/",
          "height": 298
        },
        "id": "cQLto6bA4Fok",
        "outputId": "b49d3078-68e3-4b8d-ca0c-1b5ff6dc79db"
      },
      "execution_count": null,
      "outputs": [
        {
          "output_type": "execute_result",
          "data": {
            "text/plain": [
              "<matplotlib.axes._subplots.AxesSubplot at 0x7f1c493500a0>"
            ]
          },
          "metadata": {},
          "execution_count": 65
        },
        {
          "output_type": "display_data",
          "data": {
            "text/plain": [
              "<Figure size 432x288 with 1 Axes>"
            ],
            "image/png": "[encoded data removed]"
          },
          "metadata": {
            "needs_background": "light"
          }
        }
      ]
    },
    {
      "cell_type": "code",
      "source": [
        "sns.boxplot(data=data, x=\"bachelors_bin\", y=\"democrat\",showfliers=False)"
      ],
      "metadata": {
        "colab": {
          "base_uri": "https://localhost:8080/",
          "height": 297
        },
        "id": "hDDh4_R7B5G5",
        "outputId": "c1132646-cf21-4fd1-9e1c-d7c5e58f963c"
      },
      "execution_count": null,
      "outputs": [
        {
          "output_type": "execute_result",
          "data": {
            "text/plain": [
              "<matplotlib.axes._subplots.AxesSubplot at 0x7f1c49291610>"
            ]
          },
          "metadata": {},
          "execution_count": 67
        },
        {
          "output_type": "display_data",
          "data": {
            "text/plain": [
              "<Figure size 432x288 with 1 Axes>"
            ],
            "image/png": "[encoded data removed]"
          },
          "metadata": {
            "needs_background": "light"
          }
        }
      ]
    },
    {
      "cell_type": "markdown",
      "metadata": {
        "id": "YPP7WaKlZ84z"
      },
      "source": [
        "## Observations\n",
        "\n",
        "### Goal Post\n",
        "Which distributions did your graphs reveal?\n",
        "\n",
        "\n",
        "Did your scatter plots reveal any trends?\n",
        "\n",
        "\n",
        "Any other notes?\n",
        "\n"
      ]
    },
    {
      "cell_type": "markdown",
      "metadata": {
        "id": "2SSkmQX_Z841"
      },
      "source": [
        "## Next Steps\n",
        "\n",
        "What next steps would you take to find out additional insights after this EDA?\n",
        "\n"
      ]
    },
    {
      "cell_type": "code",
      "execution_count": null,
      "metadata": {
        "id": "X2zdZ-d7Z842"
      },
      "outputs": [],
      "source": [
        "## CHALLENGE\n",
        "# if your data entails `FIPS` or `lat` `long` data, create a chloroplhet map using plotly\n",
        "\n",
        "import plotly.io as pio\n",
        "pio.renderers.default='notebook'\n",
        "\n",
        "import plotly.figure_factory as ff"
      ]
    }
  ],
  "metadata": {
    "kernelspec": {
      "display_name": "Python 3",
      "language": "python",
      "name": "python3"
    },
    "language_info": {
      "codemirror_mode": {
        "name": "ipython",
        "version": 3
      },
      "file_extension": ".py",
      "mimetype": "text/x-python",
      "name": "python",
      "nbconvert_exporter": "python",
      "pygments_lexer": "ipython3",
      "version": "3.10.7"
    },
    "orig_nbformat": 4,
    "vscode": {
      "interpreter": {
        "hash": "369f2c481f4da34e4445cda3fffd2e751bd1c4d706f27375911949ba6bb62e1c"
      }
    },
    "colab": {
      "provenance": [],
      "include_colab_link": true
    }
  },
  "nbformat": 4,
  "nbformat_minor": 0
}